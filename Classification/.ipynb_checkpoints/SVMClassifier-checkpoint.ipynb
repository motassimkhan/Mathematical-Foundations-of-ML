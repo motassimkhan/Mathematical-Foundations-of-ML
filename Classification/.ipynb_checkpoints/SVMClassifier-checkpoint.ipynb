{
 "cells": [
  {
   "cell_type": "code",
   "execution_count": null,
   "id": "b57bd96a-cf08-4fac-8f53-c338ba3873b3",
   "metadata": {},
   "outputs": [],
   "source": [
    "import pandas as pd\n",
    "import numpy as np\n",
    "from sklearn.model_selection import train_test_split, cross_val_score\n",
    "from sklearn.linear_model import LogisticRegression\n",
    "from sklearn.metrics import confusion_matrix, accuracy_score\n",
    "\n",
    "# Load the dataset\n",
    "data = pd.read_csv('./dataset/student_data_synthetic.csv')\n",
    "\n",
    "# Split data into X and y\n",
    "X = data[['Marks 1', 'Marks 2']]\n",
    "y = data['Admission']\n",
    "\n",
    "# ✅ Step 1: Add Extreme Random Noise to Data\n",
    "np.random.seed(42)\n",
    "X['Marks 1'] += np.random.normal(0, 20, X.shape[0])\n",
    "X['Marks 2'] += np.random.normal(0, 20, X.shape[0])\n",
    "\n",
    "# ✅ Step 2: Train-Test Split\n",
    "X_train, X_test, y_train, y_test = train_test_split(X, y, test_size=0.2, random_state=42)\n",
    "\n",
    "# ✅ Step 3: Apply Logistic Regression with L2 Regularization\n",
    "model = LogisticRegression(class_weight='balanced', penalty='l2', solver='lbfgs', max_iter=1000)\n",
    "model.fit(X_train, y_train)\n",
    "\n",
    "# ✅ Step 4: Predict and Evaluate\n",
    "y_pred = model.predict(X_test)\n",
    "\n",
    "# ✅ Step 5: Cross-validation Accuracy\n",
    "cv_scores = cross_val_score(model, X, y, cv=5)\n",
    "cv_accuracy = np.mean(cv_scores)\n",
    "\n",
    "# ✅ Step 6: Confusion Matrix and Test Accuracy\n",
    "conf_matrix = confusion_matrix(y_test, y_pred)\n",
    "test_accuracy = accuracy_score(y_test, y_pred)\n",
    "\n",
    "# ✅ Step 7: Results\n",
    "print(\"Confusion Matrix:\\n\", conf_matrix)\n",
    "print(\"\\nTest Accuracy: {:.2f}%\".format(test_accuracy * 100))\n",
    "print(\"Cross-Validation Accuracy: {:.2f}%\".format(cv_accuracy * 100))\n"
   ]
  }
 ],
 "metadata": {
  "kernelspec": {
   "display_name": "Python 3 (ipykernel)",
   "language": "python",
   "name": "python3"
  },
  "language_info": {
   "codemirror_mode": {
    "name": "ipython",
    "version": 3
   },
   "file_extension": ".py",
   "mimetype": "text/x-python",
   "name": "python",
   "nbconvert_exporter": "python",
   "pygments_lexer": "ipython3",
   "version": "3.11.7"
  }
 },
 "nbformat": 4,
 "nbformat_minor": 5
}
