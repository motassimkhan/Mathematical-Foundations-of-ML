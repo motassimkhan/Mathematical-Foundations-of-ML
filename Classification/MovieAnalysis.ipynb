{
 "cells": [
  {
   "cell_type": "code",
   "execution_count": 3,
   "id": "70512b78-03ec-4c0c-8b65-bc6c3b482796",
   "metadata": {},
   "outputs": [
    {
     "name": "stderr",
     "output_type": "stream",
     "text": [
      "C:\\Users\\HP\\AppData\\Local\\Temp\\ipykernel_8776\\3075585985.py:13: FutureWarning: A value is trying to be set on a copy of a DataFrame or Series through chained assignment using an inplace method.\n",
      "The behavior will change in pandas 3.0. This inplace method will never work because the intermediate object on which we are setting values always behaves as a copy.\n",
      "\n",
      "For example, when doing 'df[col].method(value, inplace=True)', try using 'df.method({col: value}, inplace=True)' or df[col] = df[col].method(value) instead, to perform the operation inplace on the original object.\n",
      "\n",
      "\n",
      "  df[\"Year\"].fillna(df[\"Year\"].median(), inplace=True)\n"
     ]
    },
    {
     "name": "stdout",
     "output_type": "stream",
     "text": [
      "Validation RMSE: 1.206364279220863\n",
      "Validation R² Score: 0.2191965578107372\n",
      "Best Parameters: {'max_depth': 10, 'min_samples_split': 10, 'n_estimators': 200}\n",
      "Test RMSE: 1.1905396512355204\n",
      "Test R² Score: 0.21957909074073245\n"
     ]
    },
    {
     "data": {
      "image/png": "[encoded data removed]",
      "text/plain": [
       "<Figure size 600x400 with 1 Axes>"
      ]
     },
     "metadata": {},
     "output_type": "display_data"
    }
   ],
   "source": [
    "import pandas as pd\n",
    "import numpy as np\n",
    "import matplotlib.pyplot as plt\n",
    "import seaborn as sns\n",
    "from sklearn.model_selection import train_test_split, GridSearchCV\n",
    "from sklearn.ensemble import RandomForestRegressor\n",
    "from sklearn.metrics import mean_squared_error, r2_score\n",
    "\n",
    "# Step 1: Load Dataset\n",
    "df = pd.read_csv(\"./datasets/TeluguMovies_dataset.csv\")\n",
    "\n",
    "# Step 2: Handle Missing Values\n",
    "df[\"Year\"].fillna(df[\"Year\"].median(), inplace=True)\n",
    "df[\"Runtime\"] = df[\"Runtime\"].astype(str).str.extract(r\"(\\d+)\").astype(float)\n",
    "\n",
    "df.dropna(subset=[\"Year\", \"Runtime\", \"Rating\", \"No.of.Ratings\"], inplace=True)\n",
    "\n",
    "# Step 3: Define Features & Target\n",
    "features = [\"Year\", \"Runtime\", \"No.of.Ratings\"]\n",
    "target = \"Rating\"\n",
    "\n",
    "# Step 4: Split Data (Train 70%, Validation 15%, Test 15%)\n",
    "train_data, test_data = train_test_split(df, test_size=0.30, random_state=42)\n",
    "train_data, val_data = train_test_split(train_data, test_size=0.15/0.70, random_state=42)\n",
    "\n",
    "X_train, y_train = train_data[features], train_data[target]\n",
    "X_val, y_val = val_data[features], val_data[target]\n",
    "X_test, y_test = test_data[features], test_data[target]\n",
    "\n",
    "# Step 5: Train Random Forest Model\n",
    "rf_model = RandomForestRegressor(n_estimators=100, max_depth=None, random_state=42)\n",
    "rf_model.fit(X_train, y_train)\n",
    "\n",
    "# Step 6: Validate Model\n",
    "y_val_pred = rf_model.predict(X_val)\n",
    "val_rmse = mean_squared_error(y_val, y_val_pred, squared=False)\n",
    "val_r2 = r2_score(y_val, y_val_pred)\n",
    "print(f\"Validation RMSE: {val_rmse}\")\n",
    "print(f\"Validation R² Score: {val_r2}\")\n",
    "\n",
    "# Step 7: Hyperparameter Tuning\n",
    "tuning_params = {\n",
    "    'n_estimators': [50, 100, 200],\n",
    "    'max_depth': [None, 10, 20],\n",
    "    'min_samples_split': [2, 5, 10]\n",
    "}\n",
    "grid_search = GridSearchCV(RandomForestRegressor(random_state=42), tuning_params, cv=3, scoring='r2', n_jobs=-1)\n",
    "grid_search.fit(X_train, y_train)\n",
    "print(f\"Best Parameters: {grid_search.best_params_}\")\n",
    "\n",
    "# Step 8: Final Model on Test Set\n",
    "best_rf = grid_search.best_estimator_\n",
    "y_test_pred = best_rf.predict(X_test)\n",
    "test_rmse = mean_squared_error(y_test, y_test_pred, squared=False)\n",
    "test_r2 = r2_score(y_test, y_test_pred)\n",
    "print(f\"Test RMSE: {test_rmse}\")\n",
    "print(f\"Test R² Score: {test_r2}\")\n",
    "\n",
    "# Step 9: Feature Importance\n",
    "importances = best_rf.feature_importances_\n",
    "plt.figure(figsize=(6,4))\n",
    "sns.barplot(x=importances, y=features)\n",
    "plt.xlabel(\"Importance Score\")\n",
    "plt.ylabel(\"Feature\")\n",
    "plt.title(\"Feature Importance in Random Forest\")\n",
    "plt.show()\n"
   ]
  },
  {
   "cell_type": "code",
   "execution_count": null,
   "id": "e4e109bb-5745-4fe4-8f8c-b83a900cfa6b",
   "metadata": {},
   "outputs": [],
   "source": []
  }
 ],
 "metadata": {
  "kernelspec": {
   "display_name": "Python 3 (ipykernel)",
   "language": "python",
   "name": "python3"
  },
  "language_info": {
   "codemirror_mode": {
    "name": "ipython",
    "version": 3
   },
   "file_extension": ".py",
   "mimetype": "text/x-python",
   "name": "python",
   "nbconvert_exporter": "python",
   "pygments_lexer": "ipython3",
   "version": "3.11.7"
  }
 },
 "nbformat": 4,
 "nbformat_minor": 5
}
