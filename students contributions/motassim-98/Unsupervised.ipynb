{
 "cells": [
  {
   "cell_type": "markdown",
   "id": "a1dee6fb-4de1-445e-9a1e-b7446aa52e18",
   "metadata": {},
   "source": [
    "# simple\n",
    "since clustering in unsupervised learning is simply distances and relations between data points and a the dataset is of unlabelled numbers or data\n",
    "\n",
    "below is a very simple implementation of clustering"
   ]
  },
  {
   "cell_type": "code",
   "execution_count": 8,
   "id": "d4d1bb77-0f92-4f56-a611-abc7fb364a80",
   "metadata": {},
   "outputs": [
    {
     "name": "stdout",
     "output_type": "stream",
     "text": [
      "Iteration: Clusters={0: [1, 2, 2.5, 3], 1: [8, 9, 9.5, 10]}, Centers=[2.125, 9.125]\n",
      "Iteration: Clusters={0: [1, 2, 2.5, 3], 1: [8, 9, 9.5, 10]}, Centers=[2.125, 9.125]\n",
      "Iteration: Clusters={0: [1, 2, 2.5, 3], 1: [8, 9, 9.5, 10]}, Centers=[2.125, 9.125]\n",
      "\n",
      "We have 2 clusters of data points near each other\n",
      "Cluster 1 = [1, 2, 2.5, 3]\n",
      "Cluster 2 = [8, 9, 9.5, 10]\n"
     ]
    }
   ],
   "source": [
    "# Random data\n",
    "data = [1, 2, 2.5, 3, 8, 9, 9.5, 10]\n",
    "\n",
    "# random position assignment for initial cluster center \n",
    "centers = [data[0], data[len(data)-2]]\n",
    "\n",
    "for _ in range(3):  \n",
    "    clusters = {0: [], 1: []}\n",
    "    \n",
    "    # Assign points to nearest center\n",
    "    for point in data:\n",
    "        distances = [abs(point - c) for c in centers]\n",
    "        nearest = min(distances)\n",
    "        cluster_index = distances.index(nearest)\n",
    "        clusters[cluster_index].append(point)\n",
    "    \n",
    "    # Recalculate centers\n",
    "    for i in clusters:\n",
    "        centers[i] = sum(clusters[i]) / len(clusters[i])\n",
    "\n",
    "    print(f\"Iteration: Clusters={clusters}, Centers={centers}\")\n",
    "    \n",
    "print(f'\\nWe have 2 clusters of data points near each other\\nCluster 1 = {clusters[0]}\\nCluster 2 = {clusters[1]}')"
   ]
  },
  {
   "cell_type": "markdown",
   "id": "51f3019c-3c62-4f60-b031-f1358c94b594",
   "metadata": {},
   "source": [
    "# someday a proper application"
   ]
  },
  {
   "cell_type": "code",
   "execution_count": null,
   "id": "1bf513c3-36f9-4f56-9358-0f54673acf93",
   "metadata": {},
   "outputs": [],
   "source": []
  }
 ],
 "metadata": {
  "kernelspec": {
   "display_name": "Python 3 (ipykernel)",
   "language": "python",
   "name": "python3"
  },
  "language_info": {
   "codemirror_mode": {
    "name": "ipython",
    "version": 3
   },
   "file_extension": ".py",
   "mimetype": "text/x-python",
   "name": "python",
   "nbconvert_exporter": "python",
   "pygments_lexer": "ipython3",
   "version": "3.13.3"
  }
 },
 "nbformat": 4,
 "nbformat_minor": 5
}
