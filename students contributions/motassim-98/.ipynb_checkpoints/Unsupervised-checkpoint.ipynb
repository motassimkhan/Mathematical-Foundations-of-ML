{
 "cells": [
  {
   "cell_type": "code",
   "execution_count": 1,
   "id": "cfb0b120-df85-4d33-9bdd-9bc588e083aa",
   "metadata": {},
   "outputs": [
    {
     "name": "stdout",
     "output_type": "stream",
     "text": [
      "Collecting pandas\n",
      "  Using cached pandas-2.2.3-cp313-cp313-win_amd64.whl.metadata (19 kB)\n",
      "Collecting numpy\n",
      "  Using cached numpy-2.2.5-cp313-cp313-win_amd64.whl.metadata (60 kB)\n",
      "Collecting scikit-learn\n",
      "  Using cached scikit_learn-1.6.1-cp313-cp313-win_amd64.whl.metadata (15 kB)\n",
      "Collecting python-dateutil>=2.8.2 (from pandas)\n",
      "  Using cached python_dateutil-2.9.0.post0-py2.py3-none-any.whl.metadata (8.4 kB)\n",
      "Collecting pytz>=2020.1 (from pandas)\n",
      "  Using cached pytz-2025.2-py2.py3-none-any.whl.metadata (22 kB)\n",
      "Collecting tzdata>=2022.7 (from pandas)\n",
      "  Using cached tzdata-2025.2-py2.py3-none-any.whl.metadata (1.4 kB)\n",
      "Collecting scipy>=1.6.0 (from scikit-learn)\n",
      "  Using cached scipy-1.15.2-cp313-cp313-win_amd64.whl.metadata (60 kB)\n",
      "Collecting joblib>=1.2.0 (from scikit-learn)\n",
      "  Using cached joblib-1.4.2-py3-none-any.whl.metadata (5.4 kB)\n",
      "Collecting threadpoolctl>=3.1.0 (from scikit-learn)\n",
      "  Downloading threadpoolctl-3.6.0-py3-none-any.whl.metadata (13 kB)\n",
      "Collecting six>=1.5 (from python-dateutil>=2.8.2->pandas)\n",
      "  Using cached six-1.17.0-py2.py3-none-any.whl.metadata (1.7 kB)\n",
      "Using cached pandas-2.2.3-cp313-cp313-win_amd64.whl (11.5 MB)\n",
      "Using cached numpy-2.2.5-cp313-cp313-win_amd64.whl (12.6 MB)\n",
      "Downloading scikit_learn-1.6.1-cp313-cp313-win_amd64.whl (11.1 MB)\n",
      "   ---------------------------------------- 0.0/11.1 MB ? eta -:--:--\n",
      "   ------------- -------------------------- 3.7/11.1 MB 19.1 MB/s eta 0:00:01\n",
      "   ----------------- ---------------------- 4.7/11.1 MB 12.5 MB/s eta 0:00:01\n",
      "   -------------------- ------------------- 5.8/11.1 MB 9.8 MB/s eta 0:00:01\n",
      "   ----------------------- ---------------- 6.6/11.1 MB 8.0 MB/s eta 0:00:01\n",
      "   ------------------------- -------------- 7.1/11.1 MB 7.2 MB/s eta 0:00:01\n",
      "   ----------------------------- ---------- 8.1/11.1 MB 6.4 MB/s eta 0:00:01\n",
      "   --------------------------------- ------ 9.2/11.1 MB 6.2 MB/s eta 0:00:01\n",
      "   ------------------------------------ --- 10.2/11.1 MB 6.2 MB/s eta 0:00:01\n",
      "   ---------------------------------------  11.0/11.1 MB 6.1 MB/s eta 0:00:01\n",
      "   ---------------------------------------- 11.1/11.1 MB 5.7 MB/s eta 0:00:00\n",
      "Using cached joblib-1.4.2-py3-none-any.whl (301 kB)\n",
      "Using cached python_dateutil-2.9.0.post0-py2.py3-none-any.whl (229 kB)\n",
      "Using cached pytz-2025.2-py2.py3-none-any.whl (509 kB)\n",
      "Using cached scipy-1.15.2-cp313-cp313-win_amd64.whl (41.0 MB)\n",
      "Downloading threadpoolctl-3.6.0-py3-none-any.whl (18 kB)\n",
      "Using cached tzdata-2025.2-py2.py3-none-any.whl (347 kB)\n",
      "Using cached six-1.17.0-py2.py3-none-any.whl (11 kB)\n",
      "Installing collected packages: pytz, tzdata, threadpoolctl, six, numpy, joblib, scipy, python-dateutil, scikit-learn, pandas\n",
      "Successfully installed joblib-1.4.2 numpy-2.2.5 pandas-2.2.3 python-dateutil-2.9.0.post0 pytz-2025.2 scikit-learn-1.6.1 scipy-1.15.2 six-1.17.0 threadpoolctl-3.6.0 tzdata-2025.2\n"
     ]
    },
    {
     "name": "stderr",
     "output_type": "stream",
     "text": [
      "\n",
      "[notice] A new release of pip is available: 25.0.1 -> 25.1\n",
      "[notice] To update, run: python.exe -m pip install --upgrade pip\n"
     ]
    }
   ],
   "source": [
    "! pip install pandas numpy scikit-learn"
   ]
  },
  {
   "cell_type": "markdown",
   "id": "a1dee6fb-4de1-445e-9a1e-b7446aa52e18",
   "metadata": {},
   "source": [
    "# simple\n",
    "since clustering in unsupervised learning is simply distances and relations between data points and a the dataset is of unlabelled numbers or data\n",
    "\n",
    "below is a very simple implementation of clustering"
   ]
  },
  {
   "cell_type": "code",
   "execution_count": 8,
   "id": "d4d1bb77-0f92-4f56-a611-abc7fb364a80",
   "metadata": {},
   "outputs": [
    {
     "name": "stdout",
     "output_type": "stream",
     "text": [
      "Iteration: Clusters={0: [1, 2, 2.5, 3], 1: [8, 9, 9.5, 10]}, Centers=[2.125, 9.125]\n",
      "Iteration: Clusters={0: [1, 2, 2.5, 3], 1: [8, 9, 9.5, 10]}, Centers=[2.125, 9.125]\n",
      "Iteration: Clusters={0: [1, 2, 2.5, 3], 1: [8, 9, 9.5, 10]}, Centers=[2.125, 9.125]\n",
      "\n",
      "We have 2 clusters of data points near each other\n",
      "Cluster 1 = [1, 2, 2.5, 3]\n",
      "Cluster 2 = [8, 9, 9.5, 10]\n"
     ]
    }
   ],
   "source": [
    "# Random data\n",
    "data = [1, 2, 2.5, 3, 8, 9, 9.5, 10]\n",
    "\n",
    "# random position assignment for initial cluster center \n",
    "centers = [data[0], data[len(data)-2]]\n",
    "\n",
    "for _ in range(3):  \n",
    "    clusters = {0: [], 1: []}\n",
    "    \n",
    "    # Assign points to nearest center\n",
    "    for point in data:\n",
    "        distances = [abs(point - c) for c in centers]\n",
    "        nearest = min(distances)\n",
    "        cluster_index = distances.index(nearest)\n",
    "        clusters[cluster_index].append(point)\n",
    "    \n",
    "    # Recalculate centers\n",
    "    for i in clusters:\n",
    "        centers[i] = sum(clusters[i]) / len(clusters[i])\n",
    "\n",
    "    print(f\"Iteration: Clusters={clusters}, Centers={centers}\")\n",
    "    \n",
    "print(f'\\nWe have 2 clusters of data points near each other\\nCluster 1 = {clusters[0]}\\nCluster 2 = {clusters[1]}')"
   ]
  },
  {
   "cell_type": "markdown",
   "id": "51f3019c-3c62-4f60-b031-f1358c94b594",
   "metadata": {},
   "source": [
    "# someday a proper application"
   ]
  }
 ],
 "metadata": {
  "kernelspec": {
   "display_name": "Python 3 (ipykernel)",
   "language": "python",
   "name": "python3"
  },
  "language_info": {
   "codemirror_mode": {
    "name": "ipython",
    "version": 3
   },
   "file_extension": ".py",
   "mimetype": "text/x-python",
   "name": "python",
   "nbconvert_exporter": "python",
   "pygments_lexer": "ipython3",
   "version": "3.13.3"
  }
 },
 "nbformat": 4,
 "nbformat_minor": 5
}
